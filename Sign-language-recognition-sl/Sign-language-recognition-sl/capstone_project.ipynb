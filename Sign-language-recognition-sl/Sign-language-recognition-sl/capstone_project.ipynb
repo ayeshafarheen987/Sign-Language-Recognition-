{
  "cells": [
    {
      "cell_type": "markdown",
      "id": "a583247e",
      "metadata": {
        "id": "a583247e"
      },
      "source": [
        "## IMPORT NECESSARY LIBRARIES"
      ]
    },
    {
      "cell_type": "code",
      "execution_count": null,
      "id": "febdb2e0",
      "metadata": {
        "id": "febdb2e0"
      },
      "outputs": [],
      "source": [
        "import os\n",
        "import cv2\n",
        "from imutils import paths\n",
        "import numpy as np\n",
        "import pandas as pd\n",
        "import matplotlib.pyplot as plt\n",
        "import seaborn as sns\n",
        "import tensorflow as tf\n",
        "from tensorflow.keras import models,layers\n",
        "from sklearn import preprocessing\n",
        "from sklearn.model_selection import train_test_split\n",
        "from tensorflow import keras\n",
        "from sklearn.preprocessing import Normalizer\n",
        "import warnings\n",
        "warnings.filterwarnings('ignore')\n",
        "\n",
        "\n"
      ]
    },
    {
      "cell_type": "code",
      "source": [
        "\n",
        "#Change runtime type"
      ],
      "metadata": {
        "id": "Gg664QIrtEBG"
      },
      "id": "Gg664QIrtEBG",
      "execution_count": null,
      "outputs": []
    },
    {
      "cell_type": "code",
      "execution_count": null,
      "id": "ce8cc2c5",
      "metadata": {
        "id": "ce8cc2c5"
      },
      "outputs": [],
      "source": [
        "from google.colab import drive\n",
        "drive.mount('/content/gdrive')"
      ]
    },
    {
      "cell_type": "code",
      "source": [
        "datapath =\"/content/gdrive/MyDrive/Sign pics/Sign pics\""
      ],
      "metadata": {
        "id": "RhL74A1XqkTK"
      },
      "id": "RhL74A1XqkTK",
      "execution_count": null,
      "outputs": []
    },
    {
      "cell_type": "markdown",
      "id": "25d5c5bf",
      "metadata": {
        "id": "25d5c5bf"
      },
      "source": [
        "## READ DATA"
      ]
    },
    {
      "cell_type": "code",
      "execution_count": null,
      "id": "7e7faff9",
      "metadata": {
        "id": "7e7faff9"
      },
      "outputs": [],
      "source": [
        "pathToImage =list(paths.list_images(datapath))\n",
        "#print(pathToImage)\n",
        "data =[]\n",
        "labels =[]\n",
        "for images in pathToImage:\n",
        "    label=images.split(os.path.sep)[-2]\n",
        "    #print(label)\n",
        "    image =cv2.imread(images)\n",
        "    image = cv2.cvtColor(image,cv2.COLOR_BGR2RGB)\n",
        "    data.append(image)\n",
        "    labels.append(label)\n",
        "    #plt.figure()\n"
      ]
    },
    {
      "cell_type": "code",
      "execution_count": null,
      "id": "d6ce4d61",
      "metadata": {
        "id": "d6ce4d61"
      },
      "outputs": [],
      "source": [
        "#print(labels)"
      ]
    },
    {
      "cell_type": "code",
      "execution_count": null,
      "id": "2b1f3454",
      "metadata": {
        "id": "2b1f3454"
      },
      "outputs": [],
      "source": [
        "# Total number of images and labels\n",
        "print('Total number of images',len(data))\n",
        "print('Total number of labels',len(set(labels)))\n",
        "print(\"Labels: \",[X for X in set(labels)])"
      ]
    },
    {
      "cell_type": "code",
      "execution_count": null,
      "id": "d92a0288",
      "metadata": {
        "id": "d92a0288"
      },
      "outputs": [],
      "source": [
        "#plt.figure(figsize =(20,20))\n",
        "for i in range(8):\n",
        "    plt.subplot(2,4,i+1)\n",
        "    plt.imshow(data[i])\n",
        "    plt.title(labels[i])\n",
        "    plt.axis('off')"
      ]
    },
    {
      "cell_type": "code",
      "execution_count": null,
      "id": "4e3dc2a7",
      "metadata": {
        "id": "4e3dc2a7"
      },
      "outputs": [],
      "source": [
        "blur_img =[]\n",
        "clear_image =[]\n",
        "for img in data:\n",
        "    gray = cv2.cvtColor(img,cv2.COLOR_BGR2GRAY)\n",
        "    Gaussain_blur =cv2.GaussianBlur(gray,(5,5),2) \n",
        "    th3=cv2.adaptiveThreshold(Gaussain_blur,255,cv2.ADAPTIVE_THRESH_GAUSSIAN_C,cv2.THRESH_BINARY_INV,11,2)\n",
        "    ret,res = cv2.threshold(th3, 0, 255, cv2.THRESH_BINARY_INV+cv2.THRESH_OTSU)\n",
        "    kernel = np.ones((3, 3), np.uint8)\n",
        "    closing = cv2.morphologyEx(res, cv2.MORPH_CLOSE, kernel, iterations=1)\n",
        "    #erosion = cv2.erode(closing, kernel, iterations=1)\n",
        "    clear_image.append(closing)       \n",
        "    blur_img.append(Gaussain_blur)\n",
        "    "
      ]
    },
    {
      "cell_type": "code",
      "execution_count": null,
      "id": "a73ddc1c",
      "metadata": {
        "id": "a73ddc1c"
      },
      "outputs": [],
      "source": [
        "print(ret)"
      ]
    },
    {
      "cell_type": "code",
      "execution_count": null,
      "id": "08e0c7d2",
      "metadata": {
        "id": "08e0c7d2"
      },
      "outputs": [],
      "source": [
        "print(res)"
      ]
    },
    {
      "cell_type": "code",
      "execution_count": null,
      "id": "d15cae05",
      "metadata": {
        "id": "d15cae05"
      },
      "outputs": [],
      "source": [
        "plt.imshow(gray)"
      ]
    },
    {
      "cell_type": "code",
      "execution_count": null,
      "id": "9c64917e",
      "metadata": {
        "id": "9c64917e"
      },
      "outputs": [],
      "source": []
    },
    {
      "cell_type": "code",
      "execution_count": null,
      "id": "16442582",
      "metadata": {
        "id": "16442582"
      },
      "outputs": [],
      "source": [
        "plt.imshow(clear_image[1])"
      ]
    },
    {
      "cell_type": "code",
      "execution_count": null,
      "id": "b3f19334",
      "metadata": {
        "id": "b3f19334"
      },
      "outputs": [],
      "source": [
        "clear_image[1]"
      ]
    },
    {
      "cell_type": "markdown",
      "id": "8ab689b8",
      "metadata": {
        "id": "8ab689b8"
      },
      "source": [
        "## Gaussian blur image"
      ]
    },
    {
      "cell_type": "code",
      "execution_count": null,
      "id": "00f9d938",
      "metadata": {
        "id": "00f9d938"
      },
      "outputs": [],
      "source": [
        "#plt.figure(figsize =(20,20))\n",
        "for i in range(8):\n",
        "    plt.subplot(2, 4, i + 1)\n",
        "    plt.imshow(blur_img[i])\n",
        "    plt.title(labels[i])\n",
        "    plt.axis('off')\n",
        "    \n",
        "    \n",
        "    "
      ]
    },
    {
      "cell_type": "markdown",
      "id": "b42228d5",
      "metadata": {
        "id": "b42228d5"
      },
      "source": [
        "## clear image"
      ]
    },
    {
      "cell_type": "code",
      "execution_count": null,
      "id": "9b7007ef",
      "metadata": {
        "id": "9b7007ef"
      },
      "outputs": [],
      "source": [
        "plt.figure(figsize =(30,30))\n",
        "for i in range(250):\n",
        "    plt.subplot(25, 10, i + 1)\n",
        "    plt.imshow(clear_image[i],cmap =\"gray\")\n",
        "    plt.title(labels[i])\n",
        "    plt.axis('off')"
      ]
    },
    {
      "cell_type": "code",
      "execution_count": null,
      "id": "ea0ce2e4",
      "metadata": {
        "id": "ea0ce2e4"
      },
      "outputs": [],
      "source": [
        "data =np.array(clear_image)\n",
        "labels =np.array(labels)\n"
      ]
    },
    {
      "cell_type": "markdown",
      "id": "ca643fb6",
      "metadata": {
        "id": "ca643fb6"
      },
      "source": [
        "## SPLITTING DATA "
      ]
    },
    {
      "cell_type": "code",
      "execution_count": null,
      "id": "3df86651",
      "metadata": {
        "id": "3df86651"
      },
      "outputs": [],
      "source": [
        "x_train,x_test,y_train,y_test = train_test_split(data,labels,test_size =0.2,stratify =labels,random_state =42)"
      ]
    },
    {
      "cell_type": "markdown",
      "id": "590ebd9c",
      "metadata": {
        "id": "590ebd9c"
      },
      "source": [
        "## SHAPE OF TRAINING AND TESTING DATA"
      ]
    },
    {
      "cell_type": "code",
      "execution_count": null,
      "id": "4d337a95",
      "metadata": {
        "id": "4d337a95"
      },
      "outputs": [],
      "source": [
        "print(x_train.shape)\n",
        "print(y_train.shape)\n",
        "print(x_test.shape)\n",
        "print(y_test.shape)"
      ]
    },
    {
      "cell_type": "markdown",
      "id": "2db6d656",
      "metadata": {
        "id": "2db6d656"
      },
      "source": [
        "## NORMALIZING THE DATA"
      ]
    },
    {
      "cell_type": "code",
      "execution_count": null,
      "id": "87aa7de4",
      "metadata": {
        "id": "87aa7de4"
      },
      "outputs": [],
      "source": [
        "#x_train =Normalizer().fit_transform(x_train)\n",
        "#x_test =Normalizer().fit_transform(x_test)"
      ]
    },
    {
      "cell_type": "code",
      "execution_count": null,
      "id": "f82f86af",
      "metadata": {
        "id": "f82f86af"
      },
      "outputs": [],
      "source": [
        "x_train =x_train/255\n",
        "x_test = x_test/255"
      ]
    },
    {
      "cell_type": "code",
      "execution_count": null,
      "id": "938573aa",
      "metadata": {
        "id": "938573aa"
      },
      "outputs": [],
      "source": [
        "print(x_train)"
      ]
    },
    {
      "cell_type": "code",
      "execution_count": null,
      "id": "59792e8c",
      "metadata": {
        "id": "59792e8c"
      },
      "outputs": [],
      "source": [
        "print(y_train)"
      ]
    },
    {
      "cell_type": "code",
      "execution_count": null,
      "id": "cfaa649c",
      "metadata": {
        "id": "cfaa649c"
      },
      "outputs": [],
      "source": [
        "#x_train = x_train.reshape(120, 224*224*3)\n",
        "#x_test = x_test.reshape(30,224*224*3 )"
      ]
    },
    {
      "cell_type": "code",
      "execution_count": null,
      "id": "c7e198f2",
      "metadata": {
        "id": "c7e198f2"
      },
      "outputs": [],
      "source": [
        "x_train = x_train.reshape(962,224,224,1)\n",
        "x_test =x_test.reshape(241,224,224,1)"
      ]
    },
    {
      "cell_type": "code",
      "execution_count": null,
      "id": "edbacb64",
      "metadata": {
        "id": "edbacb64"
      },
      "outputs": [],
      "source": [
        "x_test.shape"
      ]
    },
    {
      "cell_type": "code",
      "execution_count": null,
      "id": "445fc8d9",
      "metadata": {
        "id": "445fc8d9"
      },
      "outputs": [],
      "source": [
        "x_train.ndim"
      ]
    },
    {
      "cell_type": "code",
      "execution_count": null,
      "id": "11915815",
      "metadata": {
        "id": "11915815"
      },
      "outputs": [],
      "source": [
        "y_train"
      ]
    },
    {
      "cell_type": "code",
      "execution_count": null,
      "id": "cf1c1b76",
      "metadata": {
        "id": "cf1c1b76"
      },
      "outputs": [],
      "source": [
        "#x_train.reshape()"
      ]
    },
    {
      "cell_type": "code",
      "execution_count": null,
      "id": "1b8ba5e3",
      "metadata": {
        "id": "1b8ba5e3"
      },
      "outputs": [],
      "source": [
        "#x_train =Normalizer().fit_transform(x_train)\n",
        "#x_test =Normalizer().fit_transform(x_test)"
      ]
    },
    {
      "cell_type": "code",
      "execution_count": null,
      "id": "d85f110a",
      "metadata": {
        "id": "d85f110a"
      },
      "outputs": [],
      "source": [
        "x_train[0].max()"
      ]
    },
    {
      "cell_type": "code",
      "execution_count": null,
      "id": "7968f568",
      "metadata": {
        "id": "7968f568"
      },
      "outputs": [],
      "source": [
        "lb = preprocessing.LabelBinarizer()\n",
        "y_train =lb.fit_transform(y_train)\n",
        "y_test =lb.fit_transform(y_test)"
      ]
    },
    {
      "cell_type": "code",
      "execution_count": null,
      "id": "d8bdc085",
      "metadata": {
        "id": "d8bdc085"
      },
      "outputs": [],
      "source": [
        "x_test.shape,y_test.shape"
      ]
    },
    {
      "cell_type": "markdown",
      "id": "f1b8f1d8",
      "metadata": {
        "id": "f1b8f1d8"
      },
      "source": [
        "## DATA GENERATOR"
      ]
    },
    {
      "cell_type": "code",
      "execution_count": null,
      "id": "383ce8f1",
      "metadata": {
        "id": "383ce8f1"
      },
      "outputs": [],
      "source": [
        "from keras.preprocessing.image import ImageDataGenerator\n",
        "datagen = ImageDataGenerator(\n",
        "        rotation_range=180,  # randomly rotate images in the range\n",
        "        zoom_range = 0.1, # Randomly zoom image \n",
        "        width_shift_range=0.1,  # randomly shift images horizontally\n",
        "        height_shift_range=0.1,  # randomly shift images vertically \n",
        "        horizontal_flip=True,  # randomly flip images horizontally\n",
        "        vertical_flip=True  # randomly flip images vertically\n",
        "    )  \n",
        "datagen.fit(x_train)"
      ]
    },
    {
      "cell_type": "code",
      "execution_count": null,
      "id": "06ac2c89",
      "metadata": {
        "id": "06ac2c89"
      },
      "outputs": [],
      "source": [
        "\n"
      ]
    },
    {
      "cell_type": "markdown",
      "id": "0671fed4",
      "metadata": {
        "id": "0671fed4"
      },
      "source": [
        "## CNN MODEL"
      ]
    },
    {
      "cell_type": "code",
      "execution_count": null,
      "id": "4de45a11",
      "metadata": {
        "id": "4de45a11"
      },
      "outputs": [],
      "source": [
        "#CNN\n",
        "# 1st sequential for forward and backoard propogation\n",
        "model = models.Sequential()\n",
        "#adding convolution layer\n",
        "model.add(layers.Conv2D(32, (3, 3), activation='relu', input_shape=(224, 224, 1),padding ='same'))\n",
        "#max pooling\n",
        "model.add(layers.MaxPooling2D((2, 2)))\n",
        "model.add(layers.Conv2D(32, (3, 3), activation='relu',padding ='same'))\n",
        "model.add(layers.MaxPooling2D((2, 2)))\n",
        "# Drop_out\n",
        "model.add(layers.Dropout(0.2))\n",
        "model.add(layers.Conv2D(64, (3, 3), activation='relu',padding ='same'))\n",
        "model.add(layers.MaxPooling2D((2, 2)))\n",
        "model.add(layers.Dropout(0.2))\n",
        "model.add(layers.Conv2D(128, (3, 3), activation='relu',padding ='same'))\n",
        "model.add(layers.MaxPooling2D((2, 2)))\n"
      ]
    },
    {
      "cell_type": "code",
      "execution_count": null,
      "id": "d45cd363",
      "metadata": {
        "id": "d45cd363"
      },
      "outputs": [],
      "source": [
        "# now flatten \n",
        "model.add(layers.Flatten())\n",
        "# fully connected neural network\n",
        "model.add(layers.Dense(256, activation='relu'))\n",
        "#model.add(layers.Dense(200,activation='relu'))\n",
        "model.add(layers.Dense(3,activation='softmax'))"
      ]
    },
    {
      "cell_type": "code",
      "execution_count": null,
      "id": "46640404",
      "metadata": {
        "id": "46640404"
      },
      "outputs": [],
      "source": [
        "model.summary()"
      ]
    },
    {
      "cell_type": "code",
      "execution_count": null,
      "id": "154fa4e1",
      "metadata": {
        "id": "154fa4e1"
      },
      "outputs": [],
      "source": [
        "x_train.shape,y_train.shape"
      ]
    },
    {
      "cell_type": "code",
      "execution_count": null,
      "id": "6785637d",
      "metadata": {
        "id": "6785637d"
      },
      "outputs": [],
      "source": [
        "x_test.shape,y_test.shape"
      ]
    },
    {
      "cell_type": "code",
      "execution_count": null,
      "id": "8d859d3d",
      "metadata": {
        "id": "8d859d3d"
      },
      "outputs": [],
      "source": [
        "y_train"
      ]
    },
    {
      "cell_type": "code",
      "execution_count": null,
      "id": "11579340",
      "metadata": {
        "id": "11579340"
      },
      "outputs": [],
      "source": [
        "\"\"\"# early stopping\n",
        "import tensorflow as tf\n",
        "early_stopping =tf.keras.callbacks.EarlyStopping(\n",
        "    monitor=\"val_loss\",\n",
        "    min_delta=0.001,\n",
        "    patience=10,\n",
        "    verbose=1,\n",
        "    mode=\"auto\",\n",
        "    baseline=None,\n",
        "    restore_best_weights=False,\n",
        ")\"\"\""
      ]
    },
    {
      "cell_type": "code",
      "execution_count": null,
      "id": "568ceb20",
      "metadata": {
        "id": "568ceb20"
      },
      "outputs": [],
      "source": [
        "# compile and train model\n",
        "model.compile(optimizer='adam',\n",
        "              loss='categorical_crossentropy',\n",
        "              metrics=['accuracy'])\n",
        "history = model.fit_generator(datagen.flow(x_train, y_train), epochs = 100, validation_data=(x_test,y_test))"
      ]
    },
    {
      "cell_type": "markdown",
      "source": [],
      "metadata": {
        "id": "_c3O9ybLFSiZ"
      },
      "id": "_c3O9ybLFSiZ"
    },
    {
      "cell_type": "markdown",
      "id": "f61fc35f",
      "metadata": {
        "id": "f61fc35f"
      },
      "source": [
        "## PLOTTING "
      ]
    },
    {
      "cell_type": "code",
      "execution_count": null,
      "id": "35883013",
      "metadata": {
        "id": "35883013"
      },
      "outputs": [],
      "source": [
        "plt.plot(history.history['accuracy'], label='accuracy')\n",
        "plt.plot(history.history['val_accuracy'], label = 'val_accuracy')\n",
        "plt.xlabel('Epoch')\n",
        "plt.ylabel('Accuracy')\n",
        "#plt.ylim([0.5, 1])\n",
        "plt.legend(loc='lower right')\n",
        "\n",
        "#test_loss, test_acc = model.evaluate(validation_ds, verbose=2)"
      ]
    },
    {
      "cell_type": "code",
      "execution_count": null,
      "id": "45781272",
      "metadata": {
        "id": "45781272"
      },
      "outputs": [],
      "source": [
        "plt.plot(history.history['loss'], label='loss')\n",
        "plt.plot(history.history['val_loss'], label = 'val_loss')\n",
        "plt.xlabel('Epoch')\n",
        "plt.ylabel('val_loss')\n",
        "#plt.ylim([0.5, 1])\n",
        "plt.legend(loc='lower right')"
      ]
    },
    {
      "cell_type": "code",
      "execution_count": null,
      "id": "f5c99e69",
      "metadata": {
        "id": "f5c99e69"
      },
      "outputs": [],
      "source": [
        "x_test.shape"
      ]
    },
    {
      "cell_type": "code",
      "execution_count": null,
      "id": "7c8b98cd",
      "metadata": {
        "id": "7c8b98cd"
      },
      "outputs": [],
      "source": [
        "y_test.shape"
      ]
    },
    {
      "cell_type": "code",
      "execution_count": null,
      "id": "9c74d8f0",
      "metadata": {
        "id": "9c74d8f0"
      },
      "outputs": [],
      "source": [
        "score = model.evaluate(x_test, y_test,batch_size=32)\n",
        "print('Test loss:', score[0])\n",
        "print('Test accuracy:', score[1])"
      ]
    },
    {
      "cell_type": "code",
      "execution_count": null,
      "id": "b6c88311",
      "metadata": {
        "id": "b6c88311"
      },
      "outputs": [],
      "source": [
        "y_predict=model.predict(x_test)\n",
        "print(y_predict)\n",
        "y_result  =np.argmax(y_predict,axis =1)\n",
        "print(y_result)\n",
        "y_test=np.argmax(y_test,axis =1)"
      ]
    },
    {
      "cell_type": "code",
      "execution_count": null,
      "id": "efd72cdc",
      "metadata": {
        "id": "efd72cdc"
      },
      "outputs": [],
      "source": [
        "print(y_result)"
      ]
    },
    {
      "cell_type": "code",
      "execution_count": null,
      "id": "23ab2cf5",
      "metadata": {
        "id": "23ab2cf5"
      },
      "outputs": [],
      "source": [
        "#plt.imshow(x_test[0],cmap=\"gray\")"
      ]
    },
    {
      "cell_type": "code",
      "source": [
        "model.save('cap_keras_model.h5')"
      ],
      "metadata": {
        "id": "1gyYzpAuBLnj"
      },
      "id": "1gyYzpAuBLnj",
      "execution_count": null,
      "outputs": []
    },
    {
      "cell_type": "markdown",
      "id": "6eda0003",
      "metadata": {
        "id": "6eda0003"
      },
      "source": [
        "## PLOTTING CONFUSION MATRIX"
      ]
    },
    {
      "cell_type": "code",
      "execution_count": null,
      "id": "2cafd3b8",
      "metadata": {
        "id": "2cafd3b8"
      },
      "outputs": [],
      "source": [
        "from sklearn.metrics import classification_report as cr,accuracy_score,confusion_matrix\n",
        "cm =confusion_matrix(y_test,y_result)\n",
        "sns.heatmap(cm,annot =True)\n",
        "print(\"accuracy_score\",accuracy_score(y_test,y_result))\n",
        "print()\n",
        "print('confusion_matrix',cr(y_test,y_result))"
      ]
    },
    {
      "cell_type": "code",
      "execution_count": null,
      "id": "01c28222",
      "metadata": {
        "id": "01c28222"
      },
      "outputs": [],
      "source": [
        "y_test"
      ]
    },
    {
      "cell_type": "markdown",
      "id": "36bbae17",
      "metadata": {
        "id": "36bbae17"
      },
      "source": [
        "# PREDICTION"
      ]
    },
    {
      "cell_type": "code",
      "execution_count": null,
      "id": "a01abbbd",
      "metadata": {
        "id": "a01abbbd"
      },
      "outputs": [],
      "source": [
        "image =cv2.imread(\"/content/gdrive/MyDrive/TEST_DATA/A-samples/4.jpg\")\n",
        "gray =cv2.cvtColor(image,cv2.COLOR_BGR2GRAY)\n",
        "Gaussain_blur =cv2.GaussianBlur(gray,(5,5),4)\n",
        "th3=cv2.adaptiveThreshold(Gaussain_blur,255,cv2.ADAPTIVE_THRESH_GAUSSIAN_C,cv2.THRESH_BINARY_INV,11,2)\n",
        "ret,res = cv2.threshold(th3, 0, 255, cv2.THRESH_BINARY_INV+cv2.THRESH_OTSU)\n",
        "kernel = np.ones((3, 3), np.uint8)\n",
        "closing = cv2.morphologyEx(res, cv2.MORPH_CLOSE, kernel, iterations=1)\n",
        "test_image =closing/255\n",
        "test_image = np.expand_dims(test_image,0)\n",
        "test_image = test_image.reshape(1,224,224,1)\n",
        "\n",
        "\n",
        "plt.imshow(res,cmap =\"gray\")\n",
        "print(test_image.shape)"
      ]
    },
    {
      "cell_type": "code",
      "execution_count": null,
      "id": "6ce9d976",
      "metadata": {
        "id": "6ce9d976"
      },
      "outputs": [],
      "source": [
        "pred_img=model.predict(np.array(test_image))\n",
        "print(pred_img)\n",
        "pred_result  =np.argmax(pred_img,axis =1)\n",
        "pred_result"
      ]
    },
    {
      "cell_type": "code",
      "execution_count": null,
      "id": "eb8ceb59",
      "metadata": {
        "id": "eb8ceb59"
      },
      "outputs": [],
      "source": [
        "image_b =cv2.imread('/content/gdrive/MyDrive/TEST_DATA/B -samples/11.jpg')\n",
        "gray =cv2.cvtColor(image_b,cv2.COLOR_BGR2GRAY)\n",
        "Gaussain_blur =cv2.GaussianBlur(gray,(5,5),4)\n",
        "th3=cv2.adaptiveThreshold(Gaussain_blur,255,cv2.ADAPTIVE_THRESH_GAUSSIAN_C,cv2.THRESH_BINARY_INV,11,2)\n",
        "ret,res = cv2.threshold(th3, 0, 255, cv2.THRESH_BINARY_INV+cv2.THRESH_OTSU)\n",
        "kernel = np.ones((3, 3), np.uint8)\n",
        "closing = cv2.morphologyEx(res, cv2.MORPH_CLOSE, kernel, iterations=1)\n",
        "test_image =closing/255\n",
        "test_image = np.expand_dims(test_image,0)\n",
        "test_image = test_image.reshape(1,224,224,1)\n",
        "plt.imshow(res,cmap =\"gray\")\n",
        "print(test_image.shape)"
      ]
    },
    {
      "cell_type": "code",
      "execution_count": null,
      "id": "d818b391",
      "metadata": {
        "id": "d818b391"
      },
      "outputs": [],
      "source": [
        "pred_img=model.predict(np.array(test_image))\n",
        "print(pred_img)\n",
        "pred_result  =np.argmax(pred_img,axis =1)\n",
        "pred_result"
      ]
    },
    {
      "cell_type": "code",
      "execution_count": null,
      "id": "b7b9c1ca",
      "metadata": {
        "id": "b7b9c1ca"
      },
      "outputs": [],
      "source": [
        "image_c =cv2.imread(\"/content/gdrive/MyDrive/TEST_DATA/C-samples/8.jpg\")\n",
        "gray =cv2.cvtColor(image_c,cv2.COLOR_BGR2GRAY)\n",
        "Gaussain_blur =cv2.GaussianBlur(gray,(5,5),4)\n",
        "th3=cv2.adaptiveThreshold(Gaussain_blur,255,cv2.ADAPTIVE_THRESH_GAUSSIAN_C,cv2.THRESH_BINARY_INV,11,2)\n",
        "ret,res = cv2.threshold(th3, 0, 255, cv2.THRESH_BINARY_INV+cv2.THRESH_OTSU)\n",
        "kernel = np.ones((3, 3), np.uint8)\n",
        "closing = cv2.morphologyEx(res, cv2.MORPH_CLOSE, kernel, iterations=1)\n",
        "test_image =closing/255\n",
        "test_image = np.expand_dims(test_image,0)\n",
        "test_image = test_image.reshape(1,224,224,1)\n",
        "plt.imshow(res,cmap =\"gray\")\n",
        "print(test_image.shape)"
      ]
    },
    {
      "cell_type": "code",
      "execution_count": null,
      "id": "fbdf1d86",
      "metadata": {
        "id": "fbdf1d86"
      },
      "outputs": [],
      "source": [
        "pred_img=model.predict(np.array(test_image))\n",
        "print(pred_img)\n",
        "pred_result  =np.argmax(pred_img,axis =1)\n",
        "pred_result"
      ]
    }
  ],
  "metadata": {
    "kernelspec": {
      "display_name": "Python 3 (ipykernel)",
      "language": "python",
      "name": "python3"
    },
    "language_info": {
      "codemirror_mode": {
        "name": "ipython",
        "version": 3
      },
      "file_extension": ".py",
      "mimetype": "text/x-python",
      "name": "python",
      "nbconvert_exporter": "python",
      "pygments_lexer": "ipython3",
      "version": "3.10.5"
    },
    "colab": {
      "private_outputs": true,
      "provenance": []
    },
    "accelerator": "TPU"
  },
  "nbformat": 4,
  "nbformat_minor": 5
}